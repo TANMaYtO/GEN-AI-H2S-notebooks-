{
 "cells": [
  {
   "cell_type": "code",
   "execution_count": 6,
   "id": "b186eed5",
   "metadata": {},
   "outputs": [],
   "source": [
    "from transformers import pipeline\n",
    "from PIL import Image, ImageChops, ImageEnhance\n",
    "import torch\n",
    "import numpy as np"
   ]
  },
  {
   "cell_type": "code",
   "execution_count": 3,
   "id": "74135b8c",
   "metadata": {},
   "outputs": [
    {
     "data": {
      "text/plain": [
       "'cuda'"
      ]
     },
     "execution_count": 3,
     "metadata": {},
     "output_type": "execute_result"
    }
   ],
   "source": [
    "DEVICE = 'cuda' if torch.cuda.is_available() else 'cpu'\n",
    "DEVICE"
   ]
  },
  {
   "cell_type": "code",
   "execution_count": 12,
   "id": "c2e97314",
   "metadata": {},
   "outputs": [
    {
     "name": "stderr",
     "output_type": "stream",
     "text": [
      "Fetching 1 files: 100%|██████████| 1/1 [00:00<00:00, 9058.97it/s]\n",
      "Device set to use cuda\n"
     ]
    }
   ],
   "source": [
    "GEN_AI_IMAGE = pipeline(\"image-classification\", model=\"umm-maybe/AI-image-detector\", device = DEVICE)\n",
    "\n",
    "def Gen_AI_IMG(img_pth):\n",
    "    try:\n",
    "        img = Image.open(img_pth).convert('RGB')\n",
    "        result = GEN_AI_IMAGE(img)\n",
    "        manipulation_proba = 0\n",
    "        for i in result:\n",
    "            if i['label'] == 'artificial':\n",
    "                manipulation_proba = i['score']\n",
    "                break\n",
    "        manipulation_proba = manipulation_proba*100\n",
    "        print(f'chance of manipulation: {manipulation_proba:.2f}')\n",
    "        return manipulation_proba\n",
    "    except Exception as e:\n",
    "        print(f'an error occured:{e}')\n",
    "        return None"
   ]
  },
  {
   "cell_type": "code",
   "execution_count": 13,
   "id": "b308edfc",
   "metadata": {},
   "outputs": [],
   "source": [
    "def generated_image(img_pth, quality= 90, scale= 15):\n",
    "    try:\n",
    "        orig_img = Image.open(img_pth).convert('RGB')\n",
    "        temp_path = 'temp_resaved.jpg'\n",
    "        orig_img.save(temp_path, 'JPEG', quality=quality)\n",
    "        resaved_img = Image.open(temp_path)\n",
    "        ela_image= ImageChops.difference(orig_img, resaved_img)\n",
    "        ela_data = np.array(ela_image)\n",
    "        mean_intensity = ela_data.mean()\n",
    "        scaled_score = min(100, (mean_intensity / 25.0) * 100)\n",
    "        extrema= ela_image.getextrema()\n",
    "        max_diff = max([ex[1] for ex in extrema])\n",
    "        if max_diff == 0:\n",
    "            max_diff = 1\n",
    "        enhancer = ImageEnhance.Brightness(ela_image)\n",
    "        ela_image = enhancer.enhance(scale / max_diff)\n",
    "        print(f\"ELA image generated for {img_pth}\")\n",
    "        ela_image.show()\n",
    "        return scaled_score, ela_image\n",
    "    except Exception as e:\n",
    "        print(f'an error occured: {e}')\n",
    "        return None"
   ]
  },
  {
   "cell_type": "code",
   "execution_count": 16,
   "id": "aadd761f",
   "metadata": {},
   "outputs": [],
   "source": [
    "def run_image_forensics(image_path):\n",
    "    ai_generated_score = Gen_AI_IMG(image_path)\n",
    "    classic_edit_score, ela_image_obj = generated_image(image_path)\n",
    "    \n",
    "    results = {\n",
    "        \"ai_generated_score_percent\": f\"{ai_generated_score:.2f}\",\n",
    "        \"classic_edit_score_percent\": f\"{classic_edit_score:.2f}\",\n",
    "        \"ela_image\": ela_image_obj\n",
    "    }\n",
    "    print(f\"AI-Generated Score: {results['ai_generated_score_percent']}%\")\n",
    "    print(f\"Classic Edit Score (ELA): {results['classic_edit_score_percent']}%\")\n",
    "    \n",
    "    if results[\"ela_image\"]:\n",
    "        print(\"ELA image has been generated and is available for display.\")  \n",
    "    return results"
   ]
  },
  {
   "cell_type": "code",
   "execution_count": 17,
   "id": "8996b627",
   "metadata": {},
   "outputs": [
    {
     "name": "stdout",
     "output_type": "stream",
     "text": [
      "chance of manipulation: 1.33\n",
      "ELA image generated for E:\\GENAI H2S\\GLUG_GLUG.jpg\n",
      "AI-Generated Score: 1.33%\n",
      "Classic Edit Score (ELA): 0.17%\n",
      "ELA image has been generated and is available for display.\n"
     ]
    }
   ],
   "source": [
    "image_file = r\"E:\\GENAI H2S\\GLUG_GLUG.jpg\"\n",
    "forensics_report = run_image_forensics(image_file)"
   ]
  },
  {
   "cell_type": "code",
   "execution_count": null,
   "id": "23c5669d",
   "metadata": {},
   "outputs": [],
   "source": []
  }
 ],
 "metadata": {
  "kernelspec": {
   "display_name": "venv",
   "language": "python",
   "name": "python3"
  },
  "language_info": {
   "codemirror_mode": {
    "name": "ipython",
    "version": 3
   },
   "file_extension": ".py",
   "mimetype": "text/x-python",
   "name": "python",
   "nbconvert_exporter": "python",
   "pygments_lexer": "ipython3",
   "version": "3.13.3"
  }
 },
 "nbformat": 4,
 "nbformat_minor": 5
}
