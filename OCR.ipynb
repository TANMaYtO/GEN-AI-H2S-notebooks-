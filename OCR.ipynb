{
 "cells": [
  {
   "cell_type": "code",
   "execution_count": 1,
   "id": "6e9efc4b",
   "metadata": {},
   "outputs": [
    {
     "name": "stderr",
     "output_type": "stream",
     "text": [
      "s:\\ML-project\\GEN-AI-H2S-notebooks-\\venv\\Lib\\site-packages\\tqdm\\auto.py:21: TqdmWarning: IProgress not found. Please update jupyter and ipywidgets. See https://ipywidgets.readthedocs.io/en/stable/user_install.html\n",
      "  from .autonotebook import tqdm as notebook_tqdm\n"
     ]
    }
   ],
   "source": [
    "from transformers import pipeline\n",
    "from PIL import Image\n",
    "import torch"
   ]
  },
  {
   "cell_type": "code",
   "execution_count": 3,
   "id": "10b60b21",
   "metadata": {},
   "outputs": [
    {
     "data": {
      "text/plain": [
       "'cuda'"
      ]
     },
     "execution_count": 3,
     "metadata": {},
     "output_type": "execute_result"
    }
   ],
   "source": [
    "DEVICE= 'cuda' if torch.cuda.is_available() else 'cpu'\n",
    "DEVICE"
   ]
  },
  {
   "cell_type": "code",
   "execution_count": null,
   "id": "88c01696",
   "metadata": {},
   "outputs": [
    {
     "name": "stderr",
     "output_type": "stream",
     "text": [
      "s:\\ML-project\\GEN-AI-H2S-notebooks-\\venv\\Lib\\site-packages\\transformers\\models\\auto\\modeling_auto.py:2242: FutureWarning: The class `AutoModelForVision2Seq` is deprecated and will be removed in v5.0. Please use `AutoModelForImageTextToText` instead.\n",
      "  warnings.warn(\n"
     ]
    }
   ],
   "source": [
    "\n",
    "\n",
    "trocr_doc = pipeline('image-to-text', model= \"microsoft/trocr-base-printed\", device= DEVICE)\n",
    "trocr_scene =pipeline(\"image-to-text\", model=\"microsoft/trocr-base-stage1\", device=DEVICE)\n",
    "\n",
    "print(\"\\n--- All models loaded successfully! ---\")\n",
    "def ETFI(img_path):\n",
    "    try:\n",
    "        img = Image.open(img_path).convert('RGB')\n",
    "        generated_text_doc= trocr_doc(img)[0]['generated_text']\n",
    "        generated_text_scene= trocr_scene(img)[0]['generated_text']\n",
    "        print(f\"\\nDocument Model Output: '{generated_text_doc}'\")\n",
    "        print(f\"\\nscene Model Output: '{generated_text_scene}'\")\n",
    "        if len(generated_text_scene) > len(generated_text_doc):\n",
    "            return generated_text_scene\n",
    "        else:\n",
    "            return generated_text_doc\n",
    "    except Exception as e:\n",
    "        print(f'An Error occured: {e}')\n",
    "        return None\n"
   ]
  },
  {
   "cell_type": "code",
   "execution_count": null,
   "id": "5d818005",
   "metadata": {},
   "outputs": [
    {
     "name": "stdout",
     "output_type": "stream",
     "text": [
      "\n",
      "Document Model Output: '(000)'\n",
      "\n",
      "scene Model Output: 'TOBACCO CORPORATIONAL ANALYTICAL PROTECTION PROTECTION'\n",
      "TOBACCO CORPORATIONAL ANALYTICAL PROTECTION PROTECTION\n"
     ]
    }
   ],
   "source": [
    "## example using\n",
    "img = r'E:\\GENAI H2S\\image.png'\n",
    "extracted_text = ETFI(img)\n",
    "\n",
    "print(extracted_text)"
   ]
  }
 ],
 "metadata": {
  "kernelspec": {
   "display_name": "venv",
   "language": "python",
   "name": "python3"
  },
  "language_info": {
   "codemirror_mode": {
    "name": "ipython",
    "version": 3
   },
   "file_extension": ".py",
   "mimetype": "text/x-python",
   "name": "python",
   "nbconvert_exporter": "python",
   "pygments_lexer": "ipython3",
   "version": "3.12.3"
  }
 },
 "nbformat": 4,
 "nbformat_minor": 5
}
