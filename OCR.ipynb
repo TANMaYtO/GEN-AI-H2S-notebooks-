{
 "cells": [
  {
   "cell_type": "code",
   "execution_count": 1,
   "id": "6e9efc4b",
   "metadata": {},
   "outputs": [
    {
     "name": "stderr",
     "output_type": "stream",
     "text": [
      "e:\\GENAI H2S\\venv\\Lib\\site-packages\\tqdm\\auto.py:21: TqdmWarning: IProgress not found. Please update jupyter and ipywidgets. See https://ipywidgets.readthedocs.io/en/stable/user_install.html\n",
      "  from .autonotebook import tqdm as notebook_tqdm\n"
     ]
    }
   ],
   "source": [
    "from transformers import pipeline\n",
    "from PIL import Image\n",
    "import torch\n",
    "import easyocr\n",
    "import cv2"
   ]
  },
  {
   "cell_type": "code",
   "execution_count": 2,
   "id": "10b60b21",
   "metadata": {},
   "outputs": [
    {
     "data": {
      "text/plain": [
       "'cuda'"
      ]
     },
     "execution_count": 2,
     "metadata": {},
     "output_type": "execute_result"
    }
   ],
   "source": [
    "DEVICE= 'cuda' if torch.cuda.is_available() else 'cpu'\n",
    "DEVICE"
   ]
  },
  {
   "cell_type": "code",
   "execution_count": 3,
   "id": "88c01696",
   "metadata": {},
   "outputs": [],
   "source": [
    "reader = easyocr.Reader(['en'])\n",
    "\n",
    "def ETWE(img_path):\n",
    "    try:\n",
    "        result = reader.readtext(img_path, paragraph=True)\n",
    "        extracted_text = \" \".join([res[1] for res in result])\n",
    "\n",
    "        return extracted_text\n",
    "    \n",
    "    except Exception as e:\n",
    "        print(f\"An error occurred with EasyOCR: {e}\")\n",
    "        return None\n"
   ]
  },
  {
   "cell_type": "code",
   "execution_count": 6,
   "id": "5d818005",
   "metadata": {},
   "outputs": [
    {
     "name": "stdout",
     "output_type": "stream",
     "text": [
      "INDIVIDUAL DE TRABAJO A ICONTRATO TERMINO INFERIOR A UN ANO 2015 FIJO saber VILMA LORENA PARADA SIERRA, suscritos mayor de edad Entre los aparece al pie de su firma  quien obra como REPRESERTANTECiTGde IBogota, identificado OAQ ARTE CONTEMPORANEO BAC, sociedad domicilacE LEGAL BOGOTA Empresa 53 quien para efectos del Bogota Ide Ia # 57 presente No Carrera contrato en Ia Ilamara Jubicada una parte Y por la otra LUIS EDUARDO BARRERO CORDOBAaridentificada EMPLEADOR; por Bogota Cundinamarca V como de su firma, domiciliado en ubicado en Ia Cr 5 N 49 D 70/ laparece al pie sucesivo Ilamara el TRABAJADOR, ha celebrado el presente quien contrato Sur regido ademas por las siguientes clausulas: Iindividual de trabajo, IPRIMERA: OBJETO. EL EMPLEADOR cotrata los servicios personales del TRABAJADOR Y este se al servicio del EMPLEADOR toda su capacidad normal de trabajo, lobliga: Ponefrunciones propias del oficio como DOMICILIARIO MENSAJERO Y en las labores Idesempeno de las del mismo, de conformidad con las ordenes instrucciones que le anexas FOMPEE erarairedeameistec traves de sus representantes_ prestar sus servicios imparta EL al empleador; es decir, a no prestar directa ni indirectamente servicios laborales en forma E@pclEsDORES; ni a trabajar por cuenta propia en el mismo oficio, durante la vigencia de otros este contrato dentro del horario laboral que se encuentra comprometido con EL EMPLEADOR; Y c) guardar absoluta reserva sobre los hechos, documentos fisicos ylo electronicos, informaciones y en  sobre todos los asuntos Y materias que Ileguen su conocimiento por causa con ocasion general de Su contrato de trabajo SEGUNDA: REMUNERACION: EL EMPLEADOR pagara al TRABAJADOR por la prestacion de sus salario mensual de SEISCIENTOS CUARENTA CUATRO MIL TRESCIENTOS senvido un CINCUENTA (644.350.00), Pagadero lo5_VEINTIOCHO (28) dias de cada mes ytun Auxilio por Rodamiento por DOSCIENTOS MIL PESOS (200.000,00). Dentro de este    pago encuentra incluida Ia remuneracion de los descansos dominicales Y festivos de que tratan los Capitulo I y II del Titulo VII del C.S.T, PARAGRAFO PRIMERO Se aclara y se conviene que en los @sos en Jlos que EL TRABAJADOR devengue comisiones cualquiera otra modalidad de salario variable, el 82.5% de dichos ingresos, constituye remuneracion de la labor realizada, Y el 17.5% restantes esta destinado remunerar el descanso en los dias dominicales Y festivos de que tratan Ios Capitulos I y II del Titulo VIII del C.S.T. PARAGRAFO SEGUNDO: Las partes acuerdan que en Ios casos en que se le reconozcan al TRABAJADOR beneficios diferentes al salario por concepto de alimentacion  a, habitacion 0 vivienda, transporte; vestuario, se consideraran tales beneficios reconocimientos como no salariales Y por tanto no se tendran en cuenta como factor salarial para la liquidacion de acreencias laborales, ni el pago de aportes parafiscales (diferentes a los de seguridad social); de conformidad'con los Arts.15 y 16 de la Iey 50/90, en concordancia con At.17 de la 344/96, TERCERA: DURACION DEL CONTRATO El termino Inicial de duracion del contrato sera de TREST (3) meses; desde el 6 de Marzo de 2015 Y su fecha de vencimiento sera el 6 de Junio de 2015. Si antes de ia fecha de vencimiento de este termino, ninguna de las partes avisare por escritota la otra Su  determinacion de no prorrogar el contrato, con antelaclon no Inferior (30) dias, este se Jeeteinerjororeogado por un periodo Iguaionl icialiente pactado, Tratandose de unocontratoc fijo Inferior de un aro, unicamente podra prorrogarse sucesivamente el contrato hasta poe tenovadibreriodos adicionales al inicialernguales Inferiores, al cabo de los cuales el termino de renovacion no podra ser inferior dnuf aGgyalsf SUCesfvaigrenteal VacacionesO Prima de Servicios: En\n"
     ]
    }
   ],
   "source": [
    "## example using\n",
    "img = r'E:\\GENAI H2S\\image.png'\n",
    "extracted_text = ETWE(img)\n",
    "\n",
    "print(extracted_text)"
   ]
  },
  {
   "cell_type": "code",
   "execution_count": null,
   "id": "c42914e2",
   "metadata": {},
   "outputs": [],
   "source": []
  }
 ],
 "metadata": {
  "kernelspec": {
   "display_name": "venv",
   "language": "python",
   "name": "python3"
  },
  "language_info": {
   "codemirror_mode": {
    "name": "ipython",
    "version": 3
   },
   "file_extension": ".py",
   "mimetype": "text/x-python",
   "name": "python",
   "nbconvert_exporter": "python",
   "pygments_lexer": "ipython3",
   "version": "3.13.3"
  }
 },
 "nbformat": 4,
 "nbformat_minor": 5
}
