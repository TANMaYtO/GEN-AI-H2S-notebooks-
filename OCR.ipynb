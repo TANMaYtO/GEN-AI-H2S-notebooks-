{
 "cells": [
  {
   "cell_type": "code",
   "execution_count": 1,
   "id": "bd37de8e",
   "metadata": {},
   "outputs": [],
   "source": [
    "import os\n",
    "import io\n",
    "from google.cloud import vision\n",
    "import torch"
   ]
  },
  {
   "cell_type": "code",
   "execution_count": 2,
   "id": "10b60b21",
   "metadata": {},
   "outputs": [
    {
     "data": {
      "text/plain": [
       "'cuda'"
      ]
     },
     "execution_count": 2,
     "metadata": {},
     "output_type": "execute_result"
    }
   ],
   "source": [
    "DEVICE= 'cuda' if torch.cuda.is_available() else 'cpu'\n",
    "DEVICE"
   ]
  },
  {
   "cell_type": "code",
   "execution_count": 3,
   "id": "47c6e306",
   "metadata": {},
   "outputs": [],
   "source": [
    "os.environ['GOOGLE_APPLICATION_CREDENTIALS'] = 'GOOGLE_VISION_API.json'\n",
    "client = vision.ImageAnnotatorClient()"
   ]
  },
  {
   "cell_type": "code",
   "execution_count": null,
   "id": "1b61f1e3",
   "metadata": {},
   "outputs": [],
   "source": [
    "def get_full_vision_anal(img_pth):\n",
    "    try:\n",
    "        with open(img_pth, 'rb') as image_file:\n",
    "            content= image_file.read()\n",
    "        image = vision.Image(content= content)\n",
    "        features= [\n",
    "            {'type_': vision.Feature.Type.DOCUMENT_TEXT_DETECTION},\n",
    "            {'type_': vision.Feature.Type.SAFE_SEARCH_DETECTION},\n",
    "            {'type_': vision.Feature.Type.LANDMARK_DETECTION},\n",
    "            {'type_': vision.Feature.Type.LOGO_DETECTION},\n",
    "            {'type_': vision.Feature.Type.WEB_DETECTION}\n",
    "        ]\n",
    "        response= client.annotate_image({'image': image, 'features': features})\n",
    "        return response, None\n",
    "    except Exception as e:\n",
    "        print(f'an error occured: {e}')\n",
    "        return None"
   ]
  },
  {
   "cell_type": "code",
   "execution_count": null,
   "id": "71139a2f",
   "metadata": {},
   "outputs": [],
   "source": [
    "def get_in_image_anal(img_pth):\n",
    "    response, error= get_full_vision_anal(img_pth)\n",
    "    if error:\n",
    "        print(f'an error occured {error}')\n",
    "        return {'error': error}\n",
    "    "
   ]
  }
 ],
 "metadata": {
  "kernelspec": {
   "display_name": "venv",
   "language": "python",
   "name": "python3"
  },
  "language_info": {
   "codemirror_mode": {
    "name": "ipython",
    "version": 3
   },
   "file_extension": ".py",
   "mimetype": "text/x-python",
   "name": "python",
   "nbconvert_exporter": "python",
   "pygments_lexer": "ipython3",
   "version": "3.13.3"
  }
 },
 "nbformat": 4,
 "nbformat_minor": 5
}
