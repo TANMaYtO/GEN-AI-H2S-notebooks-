{
 "cells": [
  {
   "cell_type": "code",
   "execution_count": null,
   "id": "6e9efc4b",
   "metadata": {},
   "outputs": [],
   "source": [
    "from transformers import pipeline\n",
    "from PIL import Image\n",
    "import torch\n",
    "import easyocr\n",
    "import cv2"
   ]
  },
  {
   "cell_type": "code",
   "execution_count": null,
   "id": "10b60b21",
   "metadata": {},
   "outputs": [],
   "source": [
    "DEVICE= 'cuda' if torch.cuda.is_available() else 'cpu'\n",
    "DEVICE"
   ]
  },
  {
   "cell_type": "code",
   "execution_count": null,
   "id": "88c01696",
   "metadata": {},
   "outputs": [],
   "source": [
    "reader = easyocr.Reader(['en'])\n",
    "\n",
    "def ETWE(img_path):\n",
    "    try:\n",
    "        result = reader.read"
   ]
  },
  {
   "cell_type": "code",
   "execution_count": null,
   "id": "5d818005",
   "metadata": {},
   "outputs": [],
   "source": [
    "## example using\n",
    "img = r'E:\\GENAI H2S\\image.png'\n",
    "extracted_text = ETFI(img)\n",
    "\n",
    "print(extracted_text)"
   ]
  },
  {
   "cell_type": "code",
   "execution_count": null,
   "id": "c42914e2",
   "metadata": {},
   "outputs": [],
   "source": []
  }
 ],
 "metadata": {
  "kernelspec": {
   "display_name": "venv",
   "language": "python",
   "name": "python3"
  },
  "language_info": {
   "codemirror_mode": {
    "name": "ipython",
    "version": 3
   },
   "file_extension": ".py",
   "mimetype": "text/x-python",
   "name": "python",
   "nbconvert_exporter": "python",
   "pygments_lexer": "ipython3",
   "version": "3.13.3"
  }
 },
 "nbformat": 4,
 "nbformat_minor": 5
}
