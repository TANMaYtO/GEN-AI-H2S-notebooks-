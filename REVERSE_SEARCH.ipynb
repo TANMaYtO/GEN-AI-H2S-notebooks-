{
 "cells": [
  {
   "cell_type": "code",
   "execution_count": 1,
   "id": "7749331a",
   "metadata": {},
   "outputs": [
    {
     "data": {
      "text/plain": [
       "True"
      ]
     },
     "execution_count": 1,
     "metadata": {},
     "output_type": "execute_result"
    }
   ],
   "source": [
    "from dotenv import load_dotenv\n",
    "import os\n",
    "load_dotenv()"
   ]
  },
  {
   "cell_type": "code",
   "execution_count": 2,
   "id": "3e1d9a29",
   "metadata": {},
   "outputs": [],
   "source": [
    "from dotenv import load_dotenv\n",
    "from serpapi import GoogleSearch\n",
    "import os\n",
    "import json"
   ]
  },
  {
   "cell_type": "code",
   "execution_count": 3,
   "id": "17a02d0e",
   "metadata": {},
   "outputs": [],
   "source": [
    "SERPAPI_API_KEY = os.getenv(\"SERPAPI_KEY\")\n",
    "\n",
    "def get_rev_image_search_results(img_pth):\n",
    "    if not SERPAPI_API_KEY:\n",
    "        print('no API key found in the .env file')\n",
    "        return None\n",
    "    try:\n",
    "        params = {\n",
    "            \"engine\": \"google_reverse_image\",\n",
    "            \"api_key\": SERPAPI_API_KEY\n",
    "        }\n",
    "        client = GoogleSearch(params)\n",
    "        results_dict = client.get_dict(image_path=img_pth)\n",
    "        if 'image_results' in results_dict:\n",
    "            print('REV IMG SEARCH SUCCSESS')\n",
    "            top_res= []\n",
    "            for result in results_dict[\"image_results\"][:3]:\n",
    "                clean_res = {\n",
    "                    'title': result.get('title'),\n",
    "                    'source': result.get('source'),\n",
    "                    'link' : result.get('link')\n",
    "                }\n",
    "                top_res.append(clean_res)\n",
    "            return top_res\n",
    "        else:\n",
    "            print('no significant matches found')\n",
    "            return []\n",
    "    except Exception as e:\n",
    "        print(f'an error ocurred during the search: {e}')\n",
    "        return None\n",
    "    \n"
   ]
  },
  {
   "cell_type": "code",
   "execution_count": null,
   "id": "e0c2a134",
   "metadata": {},
   "outputs": [],
   "source": []
  }
 ],
 "metadata": {
  "kernelspec": {
   "display_name": "venv",
   "language": "python",
   "name": "python3"
  },
  "language_info": {
   "codemirror_mode": {
    "name": "ipython",
    "version": 3
   },
   "file_extension": ".py",
   "mimetype": "text/x-python",
   "name": "python",
   "nbconvert_exporter": "python",
   "pygments_lexer": "ipython3",
   "version": "3.13.3"
  }
 },
 "nbformat": 4,
 "nbformat_minor": 5
}
