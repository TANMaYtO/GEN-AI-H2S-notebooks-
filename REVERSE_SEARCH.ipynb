{
 "cells": [
  {
   "cell_type": "code",
   "execution_count": null,
   "id": "27fd713b",
   "metadata": {},
   "outputs": [],
   "source": []
  },
  {
   "cell_type": "code",
   "execution_count": 2,
   "id": "7749331a",
   "metadata": {},
   "outputs": [
    {
     "data": {
      "text/plain": [
       "True"
      ]
     },
     "execution_count": 2,
     "metadata": {},
     "output_type": "execute_result"
    }
   ],
   "source": [
    "from dotenv import load_dotenv\n",
    "import os\n",
    "load_dotenv()"
   ]
  },
  {
   "cell_type": "code",
   "execution_count": 3,
   "id": "ba55fd95",
   "metadata": {},
   "outputs": [],
   "source": [
    "from dotenv import load_dotenv\n",
    "from serpapi import GoogleSearch\n",
    "import os\n",
    "import json\n",
    "import base64\n",
    "import requests\n",
    "from PIL import Image\n",
    "import io\n"
   ]
  },
  {
   "cell_type": "code",
   "execution_count": 13,
   "id": "17a02d0e",
   "metadata": {},
   "outputs": [],
   "source": [
    "SERPAPI_API_KEY = os.getenv(\"SERPAPI_KEY\")\n",
    "def get_rev_image_search_results(img_pth):\n",
    "    if not SERPAPI_API_KEY:\n",
    "        print('No API key found in the .env file')\n",
    "        return None    \n",
    "    try:\n",
    "        params = {\n",
    "            \"engine\": \"google_reverse_image\",\n",
    "            \"api_key\": SERPAPI_API_KEY,\n",
    "            \"image_url\": None,   \n",
    "            \"file\": img_pth         \n",
    "        }\n",
    "        client = GoogleSearch(params)\n",
    "        results_dict = client.get_dict()\n",
    "\n",
    "        if \"image_results\" in results_dict:\n",
    "            print(\"REV IMG SEARCH SUCCESS\")\n",
    "            top_res = []\n",
    "            for result in results_dict[\"image_results\"][:3]:\n",
    "                clean_res = {\n",
    "                    \"title\": result.get(\"title\"),\n",
    "                    \"source\": result.get(\"source\"),\n",
    "                    \"link\": result.get(\"link\"),\n",
    "                }\n",
    "                top_res.append(clean_res)\n",
    "            return top_res\n",
    "        else:\n",
    "            print(\"No significant matches found\")\n",
    "            return []\n",
    "    except Exception as e:\n",
    "        print(f\"An error occurred during the search: {e}\")\n",
    "        return None"
   ]
  },
  {
   "cell_type": "code",
   "execution_count": 15,
   "id": "e0c2a134",
   "metadata": {},
   "outputs": [
    {
     "name": "stdout",
     "output_type": "stream",
     "text": [
      "No significant matches found\n",
      "No results found or error occurred.\n"
     ]
    }
   ],
   "source": [
    "image_file = r\"E:\\GENAI H2S\\Photo-Manipulation-Ideas-Erik-Johanssen.webp\"\n",
    "results = get_rev_image_search_results(image_file)\n",
    "\n",
    "if results:\n",
    "    for i, result in enumerate(results, 1):\n",
    "        print(f\"Result {i}:\")\n",
    "        print(f\"Title: {result['title']}\")\n",
    "        print(f\"Source: {result['source']}\")\n",
    "        print(f\"Link: {result['link']}\\n\")\n",
    "else:\n",
    "    print(\"No results found or error occurred.\")"
   ]
  },
  {
   "cell_type": "code",
   "execution_count": null,
   "id": "c27dc9e4",
   "metadata": {},
   "outputs": [],
   "source": []
  }
 ],
 "metadata": {
  "kernelspec": {
   "display_name": "venv",
   "language": "python",
   "name": "python3"
  },
  "language_info": {
   "codemirror_mode": {
    "name": "ipython",
    "version": 3
   },
   "file_extension": ".py",
   "mimetype": "text/x-python",
   "name": "python",
   "nbconvert_exporter": "python",
   "pygments_lexer": "ipython3",
   "version": "3.13.3"
  }
 },
 "nbformat": 4,
 "nbformat_minor": 5
}
